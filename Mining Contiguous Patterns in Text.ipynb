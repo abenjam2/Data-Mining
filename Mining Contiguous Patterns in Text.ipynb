{
 "cells": [
  {
   "cell_type": "code",
   "execution_count": 1,
   "id": "d821d110",
   "metadata": {},
   "outputs": [],
   "source": [
    "import numpy as np"
   ]
  },
  {
   "cell_type": "code",
   "execution_count": 141,
   "id": "27ad2cad",
   "metadata": {},
   "outputs": [],
   "source": [
    "with open('Sample Text.txt') as rd:\n",
    "    items = rd.readlines()"
   ]
  },
  {
   "cell_type": "code",
   "execution_count": 142,
   "id": "7e8e6d67",
   "metadata": {},
   "outputs": [],
   "source": [
    "d = dict()\n",
    "\n",
    "for line in items:\n",
    "    uq = np.unique(line.split())\n",
    "    for word in uq:\n",
    "        if word in d:\n",
    "            d[word] = d[word] + 1\n",
    "        else:\n",
    "            d[word] = 1\n",
    "            \n",
    "d = {k: v for (k, v) in d.items() if v >= 100}"
   ]
  },
  {
   "cell_type": "code",
   "execution_count": 144,
   "id": "25a0ed1b",
   "metadata": {},
   "outputs": [],
   "source": [
    "len2 = dict()\n",
    "for line in items:\n",
    "    res = [[line.split()[i], line.split()[i + 1]] for i in range(len(line.split()) - 1)]\n",
    "    res = [list(x) for x in set(tuple(x) for x in res)]\n",
    "    for j in range(len(res) - 1):\n",
    "        if res[j][0] and res[j][1] in d:\n",
    "            if res[j][0] + \";\" + res[j][1] in len2:\n",
    "                len2[res[j][0] + \";\" + res[j][1]] = len2[res[j][0] + \";\" + res[j][1]] + 1\n",
    "            else:\n",
    "                len2[res[j][0] + \";\" + res[j][1]] = 1\n",
    "len2 = {k: v for (k, v) in len2.items() if v >= 100}"
   ]
  }
 ],
 "metadata": {
  "kernelspec": {
   "display_name": "Python 3",
   "language": "python",
   "name": "python3"
  },
  "language_info": {
   "codemirror_mode": {
    "name": "ipython",
    "version": 3
   },
   "file_extension": ".py",
   "mimetype": "text/x-python",
   "name": "python",
   "nbconvert_exporter": "python",
   "pygments_lexer": "ipython3",
   "version": "3.8.8"
  }
 },
 "nbformat": 4,
 "nbformat_minor": 5
}
